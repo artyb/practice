{
 "cells": [
  {
   "cell_type": "code",
   "execution_count": null,
   "metadata": {},
   "outputs": [],
   "source": [
    "print(\"hello world\")"
   ]
  },
  {
   "cell_type": "code",
   "execution_count": null,
   "metadata": {},
   "outputs": [],
   "source": [
    "a = \"hi\"\n",
    "print(a)"
   ]
  },
  {
   "cell_type": "code",
   "execution_count": null,
   "metadata": {},
   "outputs": [],
   "source": [
    "#contatination\n",
    "firstname = 'Arati'\n",
    "lastname = 'Adhikari'\n",
    "firstname+\"\"+lastname"
   ]
  },
  {
   "cell_type": "code",
   "execution_count": null,
   "metadata": {},
   "outputs": [],
   "source": [
    "#loop\n",
    "age = 19\n",
    "if age>19:\n",
    "    print(\"elgible to vote\")\n",
    "else:\n",
    "    print(\"you are not eligible\")"
   ]
  },
  {
   "cell_type": "code",
   "execution_count": null,
   "metadata": {},
   "outputs": [],
   "source": [
    "# to compare numbers\n",
    "a = 5\n",
    "b = 6\n",
    "c = 0\n",
    "if a>b and a>c:\n",
    "    print(\"a is greater\")\n",
    "elif b>a and b>c:\n",
    "    print(\"b is greater\")\n",
    "else:\n",
    "    print(\"c is greater\")"
   ]
  },
  {
   "cell_type": "code",
   "execution_count": null,
   "metadata": {},
   "outputs": [],
   "source": [
    "# for loop\n",
    "for i in range(5):\n",
    "    print(\"hello\")"
   ]
  },
  {
   "cell_type": "code",
   "execution_count": null,
   "metadata": {},
   "outputs": [],
   "source": [
    "for i in range(5):\n",
    "    print(i,\"namaskar\")"
   ]
  },
  {
   "cell_type": "code",
   "execution_count": null,
   "metadata": {},
   "outputs": [],
   "source": [
    "n =3\n",
    "for i in range(1,11):\n",
    "     print(n ,\"*\", i, \"=\", n*i)"
   ]
  },
  {
   "cell_type": "code",
   "execution_count": null,
   "metadata": {},
   "outputs": [],
   "source": [
    "a = \"python\"\n",
    "for i in a:\n",
    "    print(i,end =\"\")"
   ]
  },
  {
   "cell_type": "code",
   "execution_count": null,
   "metadata": {},
   "outputs": [],
   "source": [
    "a = ['apple','ball','cat','dog']\n",
    "for i in a:\n",
    "    print(i)"
   ]
  },
  {
   "cell_type": "code",
   "execution_count": null,
   "metadata": {},
   "outputs": [],
   "source": [
    "a = ['apple','ball','cat','dog']\n",
    "for i in a:\n",
    "    if i == 'cat':\n",
    "        print(\"there is cat\")"
   ]
  },
  {
   "cell_type": "code",
   "execution_count": null,
   "metadata": {},
   "outputs": [],
   "source": [
    "a = \"hello world\"\n",
    "for i in a:\n",
    "    if i == \" \":\n",
    "        break;\n",
    "    else:\n",
    "        print(i,end =\" \")"
   ]
  },
  {
   "cell_type": "code",
   "execution_count": null,
   "metadata": {},
   "outputs": [],
   "source": [
    "a = \"hello world\"\n",
    "for i in a:\n",
    "    if i == \" \":\n",
    "        continue;\n",
    "    else:\n",
    "        print(i,end =\" \")"
   ]
  },
  {
   "cell_type": "code",
   "execution_count": null,
   "metadata": {},
   "outputs": [],
   "source": [
    "banned = ['ann','chad','dee']\n",
    "user = ['eric']\n",
    "if user not in banned:\n",
    "    print(\"you can play\")"
   ]
  },
  {
   "cell_type": "markdown",
   "metadata": {},
   "source": [
    "#while loop\n",
    "while<condition>\n",
    "<operation>\n"
   ]
  },
  {
   "cell_type": "code",
   "execution_count": null,
   "metadata": {},
   "outputs": [],
   "source": [
    "a = 0\n",
    "while  a<5:\n",
    "    print(\"hello world\")\n",
    "    a = a+1"
   ]
  },
  {
   "cell_type": "code",
   "execution_count": null,
   "metadata": {},
   "outputs": [],
   "source": [
    "a = 0\n",
    "while a<2:\n",
    "    print(\"hi\")\n",
    "    a = a+1"
   ]
  },
  {
   "cell_type": "code",
   "execution_count": null,
   "metadata": {},
   "outputs": [],
   "source": [
    "a = 1\n",
    "s = 0\n",
    "x = int(input(\"enter x = \"))\n",
    "while a<5:\n",
    "    s = s+x\n",
    "    a = a+1\n",
    "    print(s)"
   ]
  },
  {
   "cell_type": "code",
   "execution_count": 1,
   "metadata": {},
   "outputs": [
    {
     "name": "stdout",
     "output_type": "stream",
     "text": [
      "\tell me something and i will\\i will repeat after you\\enter quit to endll\n",
      "message\n",
      "\tell me something and i will\\i will repeat after you\\enter quit to endquit\n",
      "message\n"
     ]
    }
   ],
   "source": [
    "prompt = \"\\tell me something and i will\"\n",
    "prompt+= \"\\i will repeat after you\"\n",
    "prompt+=\"\\enter quit to end\"\n",
    "message = \"\"\n",
    "while message !=\"quit\":\n",
    "    message = input(prompt)\n",
    "    \n",
    "    if message != quit:\n",
    "        print(\"message\")\n"
   ]
  },
  {
   "cell_type": "code",
   "execution_count": 2,
   "metadata": {},
   "outputs": [
    {
     "name": "stdout",
     "output_type": "stream",
     "text": [
      "whicih cities you have visitedenter quit when you are donebharatpur\n",
      "i have been tobharatpur!\n",
      "whicih cities you have visitedenter quit when you are donechitwan\n",
      "i have been tochitwan!\n",
      "whicih cities you have visitedenter quit when you are donequit\n"
     ]
    }
   ],
   "source": [
    "prompt = \"whicih cities you have visited\"\n",
    "prompt+= \"enter quit when you are done\"\n",
    "\n",
    "active = True\n",
    "while True:\n",
    "    city = input(prompt)\n",
    "    if city == 'quit':\n",
    "            break;\n",
    "    else:\n",
    "        print(\"i have been to\"+city+\"!\")\n",
    "    "
   ]
  },
  {
   "cell_type": "code",
   "execution_count": 11,
   "metadata": {},
   "outputs": [
    {
     "data": {
      "text/plain": [
       "['giant', 'redline', 'trek']"
      ]
     },
     "execution_count": 11,
     "metadata": {},
     "output_type": "execute_result"
    }
   ],
   "source": [
    "#list\n",
    "bikes = ['trek','redline','giant']\n",
    "bikes[0:2]\n",
    "bikes[-1]\n",
    "bikes[::-1]"
   ]
  },
  {
   "cell_type": "code",
   "execution_count": 22,
   "metadata": {},
   "outputs": [
    {
     "data": {
      "text/plain": [
       "['giant', 'redline', 'trek']"
      ]
     },
     "execution_count": 22,
     "metadata": {},
     "output_type": "execute_result"
    }
   ],
   "source": [
    "bikes"
   ]
  },
  {
   "cell_type": "code",
   "execution_count": 29,
   "metadata": {},
   "outputs": [],
   "source": [
    "bikes.reverse()"
   ]
  },
  {
   "cell_type": "code",
   "execution_count": 30,
   "metadata": {},
   "outputs": [
    {
     "data": {
      "text/plain": [
       "['trek', 'redline', 'giant']"
      ]
     },
     "execution_count": 30,
     "metadata": {},
     "output_type": "execute_result"
    }
   ],
   "source": [
    "bikes"
   ]
  },
  {
   "cell_type": "code",
   "execution_count": 31,
   "metadata": {},
   "outputs": [
    {
     "name": "stdout",
     "output_type": "stream",
     "text": [
      "trek\n",
      "redline\n",
      "giant\n"
     ]
    }
   ],
   "source": [
    "for i in bikes:\n",
    "    print(i)"
   ]
  },
  {
   "cell_type": "code",
   "execution_count": 33,
   "metadata": {},
   "outputs": [
    {
     "data": {
      "text/plain": [
       "['trek', 'redline', 'giant', 'honda', 'honda']"
      ]
     },
     "execution_count": 33,
     "metadata": {},
     "output_type": "execute_result"
    }
   ],
   "source": [
    "bikes.append('honda')\n",
    "bikes"
   ]
  },
  {
   "cell_type": "code",
   "execution_count": 35,
   "metadata": {},
   "outputs": [
    {
     "data": {
      "text/plain": [
       "['trek', 'redline', 'giant', 'honda', 'splender', 'splender', 'honda']"
      ]
     },
     "execution_count": 35,
     "metadata": {},
     "output_type": "execute_result"
    }
   ],
   "source": [
    "bikes.insert(4,\"splender\")\n",
    "bikes"
   ]
  },
  {
   "cell_type": "code",
   "execution_count": 36,
   "metadata": {},
   "outputs": [],
   "source": [
    "del bikes[-1]"
   ]
  },
  {
   "cell_type": "code",
   "execution_count": 37,
   "metadata": {},
   "outputs": [
    {
     "data": {
      "text/plain": [
       "['trek', 'redline', 'giant', 'honda', 'splender', 'splender']"
      ]
     },
     "execution_count": 37,
     "metadata": {},
     "output_type": "execute_result"
    }
   ],
   "source": [
    "bikes"
   ]
  },
  {
   "cell_type": "code",
   "execution_count": 38,
   "metadata": {},
   "outputs": [],
   "source": [
    "del bikes[-2:-4]"
   ]
  },
  {
   "cell_type": "code",
   "execution_count": 39,
   "metadata": {},
   "outputs": [
    {
     "data": {
      "text/plain": [
       "['trek', 'redline', 'giant', 'honda', 'splender', 'splender']"
      ]
     },
     "execution_count": 39,
     "metadata": {},
     "output_type": "execute_result"
    }
   ],
   "source": [
    "bikes"
   ]
  },
  {
   "cell_type": "code",
   "execution_count": 40,
   "metadata": {},
   "outputs": [],
   "source": [
    "del bikes[-1:-3]"
   ]
  },
  {
   "cell_type": "code",
   "execution_count": 41,
   "metadata": {},
   "outputs": [
    {
     "data": {
      "text/plain": [
       "['trek', 'redline', 'giant', 'honda', 'splender', 'splender']"
      ]
     },
     "execution_count": 41,
     "metadata": {},
     "output_type": "execute_result"
    }
   ],
   "source": [
    "bikes"
   ]
  },
  {
   "cell_type": "code",
   "execution_count": 42,
   "metadata": {},
   "outputs": [],
   "source": [
    "del bikes[-1]"
   ]
  },
  {
   "cell_type": "code",
   "execution_count": 43,
   "metadata": {},
   "outputs": [
    {
     "data": {
      "text/plain": [
       "['trek', 'redline', 'giant', 'honda', 'splender']"
      ]
     },
     "execution_count": 43,
     "metadata": {},
     "output_type": "execute_result"
    }
   ],
   "source": [
    "bikes"
   ]
  },
  {
   "cell_type": "code",
   "execution_count": 44,
   "metadata": {},
   "outputs": [],
   "source": [
    "del bikes[0:2]"
   ]
  },
  {
   "cell_type": "code",
   "execution_count": 45,
   "metadata": {},
   "outputs": [
    {
     "data": {
      "text/plain": [
       "['giant', 'honda', 'splender']"
      ]
     },
     "execution_count": 45,
     "metadata": {},
     "output_type": "execute_result"
    }
   ],
   "source": [
    "bikes"
   ]
  },
  {
   "cell_type": "code",
   "execution_count": 46,
   "metadata": {},
   "outputs": [
    {
     "data": {
      "text/plain": [
       "'splender'"
      ]
     },
     "execution_count": 46,
     "metadata": {},
     "output_type": "execute_result"
    }
   ],
   "source": [
    "#poping an element in a list\n",
    "#.pop() garyo vane last element pop garcha\n",
    "bikes.pop()"
   ]
  },
  {
   "cell_type": "code",
   "execution_count": 47,
   "metadata": {},
   "outputs": [
    {
     "data": {
      "text/plain": [
       "'giant'"
      ]
     },
     "execution_count": 47,
     "metadata": {},
     "output_type": "execute_result"
    }
   ],
   "source": [
    "bikes.pop(0)"
   ]
  },
  {
   "cell_type": "code",
   "execution_count": 48,
   "metadata": {},
   "outputs": [
    {
     "data": {
      "text/plain": [
       "1"
      ]
     },
     "execution_count": 48,
     "metadata": {},
     "output_type": "execute_result"
    }
   ],
   "source": [
    "#list length\n",
    "len(bikes)"
   ]
  },
  {
   "cell_type": "code",
   "execution_count": 52,
   "metadata": {},
   "outputs": [],
   "source": [
    "bikes.append('honda')"
   ]
  },
  {
   "cell_type": "code",
   "execution_count": 54,
   "metadata": {},
   "outputs": [],
   "source": [
    "del bikes[1]"
   ]
  },
  {
   "cell_type": "code",
   "execution_count": 55,
   "metadata": {},
   "outputs": [
    {
     "data": {
      "text/plain": [
       "['honda', 'honda']"
      ]
     },
     "execution_count": 55,
     "metadata": {},
     "output_type": "execute_result"
    }
   ],
   "source": [
    "bikes"
   ]
  },
  {
   "cell_type": "code",
   "execution_count": 56,
   "metadata": {},
   "outputs": [],
   "source": [
    "bikes = ['trek','redline','giant']"
   ]
  },
  {
   "cell_type": "code",
   "execution_count": 58,
   "metadata": {},
   "outputs": [],
   "source": [
    "num = len(bikes)"
   ]
  },
  {
   "cell_type": "code",
   "execution_count": 60,
   "metadata": {},
   "outputs": [
    {
     "name": "stdout",
     "output_type": "stream",
     "text": [
      "we have3bikes\n"
     ]
    }
   ],
   "source": [
    "print(\"we have\"+ str(num) +\"bikes\")"
   ]
  },
  {
   "cell_type": "code",
   "execution_count": 62,
   "metadata": {},
   "outputs": [
    {
     "data": {
      "text/plain": [
       "['trek', 'redline', 'giant']"
      ]
     },
     "execution_count": 62,
     "metadata": {},
     "output_type": "execute_result"
    }
   ],
   "source": [
    "newbikes = bikes.copy()\n",
    "newbikes"
   ]
  },
  {
   "cell_type": "code",
   "execution_count": 64,
   "metadata": {},
   "outputs": [
    {
     "data": {
      "text/plain": [
       "[1, 4, 9, 16, 25, 36, 49, 64, 81]"
      ]
     },
     "execution_count": 64,
     "metadata": {},
     "output_type": "execute_result"
    }
   ],
   "source": [
    "squares = []\n",
    "for x in range(1,10):\n",
    "    s = (x**2)\n",
    "    squares.append(s)\n",
    "squares"
   ]
  },
  {
   "cell_type": "code",
   "execution_count": 66,
   "metadata": {},
   "outputs": [
    {
     "data": {
      "text/plain": [
       "[1, 4, 9, 16, 25, 36, 49, 64, 81]"
      ]
     },
     "execution_count": 66,
     "metadata": {},
     "output_type": "execute_result"
    }
   ],
   "source": [
    "#list  comprihension\n",
    "squares = [x**2 for x in range(1,10)]\n",
    "squares"
   ]
  },
  {
   "cell_type": "code",
   "execution_count": 69,
   "metadata": {},
   "outputs": [
    {
     "data": {
      "text/plain": [
       "['KAI', 'ABE', 'ADA', 'GUE']"
      ]
     },
     "execution_count": 69,
     "metadata": {},
     "output_type": "execute_result"
    }
   ],
   "source": [
    "name = ['kai','abe','ada','gue']\n",
    "Name = []\n",
    "for names in name:   \n",
    "    Name.append(names.upper())\n",
    "Name"
   ]
  },
  {
   "cell_type": "code",
   "execution_count": 70,
   "metadata": {},
   "outputs": [
    {
     "data": {
      "text/plain": [
       "tuple"
      ]
     },
     "execution_count": 70,
     "metadata": {},
     "output_type": "execute_result"
    }
   ],
   "source": [
    "#Tuple\n",
    "#tuple is ordered,indexed,allows duplicate but immmutable\n",
    "a = ()\n",
    "type(a)"
   ]
  },
  {
   "cell_type": "code",
   "execution_count": 76,
   "metadata": {},
   "outputs": [
    {
     "name": "stdout",
     "output_type": "stream",
     "text": [
      "apple\n",
      "ball\n",
      "cat\n"
     ]
    }
   ],
   "source": [
    "a = ('apple','ball','cat')\n",
    "for i in a:\n",
    "    print(i)"
   ]
  },
  {
   "cell_type": "code",
   "execution_count": 82,
   "metadata": {},
   "outputs": [
    {
     "name": "stdout",
     "output_type": "stream",
     "text": [
      "enter n = 3\n",
      "enter name =jd\n",
      "enter name =djd\n",
      "enter name =jjd\n",
      "('jd', 'djd', 'jjd')\n"
     ]
    }
   ],
   "source": [
    "y = ()\n",
    "n = int(input(\"enter n = \"))\n",
    "for i in range(n):\n",
    "    name = input(\"enter name =\")\n",
    "    y = y+(name,)\n",
    "print(y)"
   ]
  },
  {
   "cell_type": "code",
   "execution_count": 85,
   "metadata": {},
   "outputs": [
    {
     "data": {
      "text/plain": [
       "[1, 4, 5, 90, 99, 100]"
      ]
     },
     "execution_count": 85,
     "metadata": {},
     "output_type": "execute_result"
    }
   ],
   "source": [
    "a =(1,100,99,4,5,90)\n",
    "sorted(a)"
   ]
  },
  {
   "cell_type": "code",
   "execution_count": 90,
   "metadata": {},
   "outputs": [
    {
     "data": {
      "text/plain": [
       "1"
      ]
     },
     "execution_count": 90,
     "metadata": {},
     "output_type": "execute_result"
    }
   ],
   "source": [
    "max(a)\n",
    "min(a)\n"
   ]
  },
  {
   "cell_type": "markdown",
   "metadata": {},
   "source": [
    "a =((1,2,3),(4,5,6),(7,8,9))#tuple inside tuple\n",
    "there can be list inside tuple\n",
    "and tuple onsdie list"
   ]
  },
  {
   "cell_type": "code",
   "execution_count": 98,
   "metadata": {},
   "outputs": [
    {
     "data": {
      "text/plain": [
       "[(1, 2, 3), (4, 5, 6), (7, 8, 9), (11, 12, 13)]"
      ]
     },
     "execution_count": 98,
     "metadata": {},
     "output_type": "execute_result"
    }
   ],
   "source": [
    "a =((1,2,3),(4,5,6),(7,8,9))\n",
    "b = list(a)\n",
    "b.append((11,12,13))\n",
    "b"
   ]
  },
  {
   "cell_type": "code",
   "execution_count": 101,
   "metadata": {},
   "outputs": [
    {
     "data": {
      "text/plain": [
       "([1, 2, 3], [4, 5, 6], [7, 8, 9])"
      ]
     },
     "execution_count": 101,
     "metadata": {},
     "output_type": "execute_result"
    }
   ],
   "source": [
    "a = [[1,2,3],[4,5,6],[7,8,9]]\n",
    "b = tuple(a)\n",
    "b"
   ]
  },
  {
   "cell_type": "code",
   "execution_count": null,
   "metadata": {},
   "outputs": [],
   "source": [
    "#Dictionary\n",
    "#dictionary is ordered,indexed,changeable,but doesnot allow duplicates\n"
   ]
  },
  {
   "cell_type": "code",
   "execution_count": 107,
   "metadata": {},
   "outputs": [
    {
     "data": {
      "text/plain": [
       "dict"
      ]
     },
     "execution_count": 107,
     "metadata": {},
     "output_type": "execute_result"
    }
   ],
   "source": [
    "a = {'color':'green','point':5}\n",
    "type(a)"
   ]
  },
  {
   "cell_type": "code",
   "execution_count": 109,
   "metadata": {},
   "outputs": [
    {
     "name": "stdout",
     "output_type": "stream",
     "text": [
      "green\n",
      "5\n"
     ]
    }
   ],
   "source": [
    "print(a['color'])\n",
    "print(a['point'])"
   ]
  },
  {
   "cell_type": "code",
   "execution_count": 113,
   "metadata": {},
   "outputs": [
    {
     "data": {
      "text/plain": [
       "5"
      ]
     },
     "execution_count": 113,
     "metadata": {},
     "output_type": "execute_result"
    }
   ],
   "source": [
    "a_color = a.get('color')\n",
    "a_point = a.get('point')\n",
    "a_color\n",
    "a_point"
   ]
  },
  {
   "cell_type": "code",
   "execution_count": 114,
   "metadata": {},
   "outputs": [
    {
     "data": {
      "text/plain": [
       "{'color': 'green', 'point': 5, 'x': 10}"
      ]
     },
     "execution_count": 114,
     "metadata": {},
     "output_type": "execute_result"
    }
   ],
   "source": [
    "#adding a nw key value pair\n",
    "a['x'] = 10\n",
    "a"
   ]
  },
  {
   "cell_type": "code",
   "execution_count": 115,
   "metadata": {},
   "outputs": [
    {
     "data": {
      "text/plain": [
       "{'color': 'green', 'point': 5, 'x': 10, 'y': 'Ram'}"
      ]
     },
     "execution_count": 115,
     "metadata": {},
     "output_type": "execute_result"
    }
   ],
   "source": [
    "a['y'] ='Ram'\n",
    "a"
   ]
  },
  {
   "cell_type": "code",
   "execution_count": 116,
   "metadata": {},
   "outputs": [],
   "source": [
    "b = {}\n",
    "b['address'] ='bharatpur'\n",
    "b['phone'] = 987733\n",
    "b['country'] = 'Nepal'\n"
   ]
  },
  {
   "cell_type": "code",
   "execution_count": 117,
   "metadata": {},
   "outputs": [
    {
     "data": {
      "text/plain": [
       "{'address': 'bharatpur', 'phone': 9877373, 'country': 'Nepal'}"
      ]
     },
     "execution_count": 117,
     "metadata": {},
     "output_type": "execute_result"
    }
   ],
   "source": [
    "b"
   ]
  },
  {
   "cell_type": "code",
   "execution_count": 120,
   "metadata": {},
   "outputs": [
    {
     "data": {
      "text/plain": [
       "{'color': 'red', 'point': 5}"
      ]
     },
     "execution_count": 120,
     "metadata": {},
     "output_type": "execute_result"
    }
   ],
   "source": [
    "#modifying values\n",
    "a = {'color':'green','point':5}\n",
    "a['color'] = 'red'\n",
    "a"
   ]
  },
  {
   "cell_type": "code",
   "execution_count": 123,
   "metadata": {},
   "outputs": [
    {
     "data": {
      "text/plain": [
       "dict_values(['sjs', 'sslsl'])"
      ]
     },
     "execution_count": 123,
     "metadata": {},
     "output_type": "execute_result"
    }
   ],
   "source": [
    "a = {'bend':'sjs',\n",
    "    'ssls':'sslsl'}\n",
    "x = a.keys()\n",
    "x\n",
    "y = a.values()\n",
    "y"
   ]
  },
  {
   "cell_type": "code",
   "execution_count": 126,
   "metadata": {},
   "outputs": [
    {
     "name": "stdout",
     "output_type": "stream",
     "text": [
      "enter n = 2\n",
      "enter name = wjs\n",
      "enter phone = 2882\n",
      "enter name = jdsn\n",
      "enter phone = 8282\n"
     ]
    },
    {
     "data": {
      "text/plain": [
       "{'wjs': 2882, 'jdsn': 8282}"
      ]
     },
     "execution_count": 126,
     "metadata": {},
     "output_type": "execute_result"
    }
   ],
   "source": [
    "d = {}\n",
    "n = int(input(\"enter n = \"))\n",
    "for i in range(n):\n",
    "    name = input(\"enter name = \")\n",
    "    phone = int(input(\"enter phone = \"))\n",
    "    d[name] = phone\n",
    "d"
   ]
  },
  {
   "cell_type": "code",
   "execution_count": 127,
   "metadata": {},
   "outputs": [
    {
     "data": {
      "text/plain": [
       "dict_keys(['wjs', 'jdsn'])"
      ]
     },
     "execution_count": 127,
     "metadata": {},
     "output_type": "execute_result"
    }
   ],
   "source": [
    "d.keys()"
   ]
  },
  {
   "cell_type": "code",
   "execution_count": 1,
   "metadata": {},
   "outputs": [
    {
     "name": "stdout",
     "output_type": "stream",
     "text": [
      "{'color': 'green', 'point': 5}\n"
     ]
    }
   ],
   "source": [
    "a = {'color':'green','point':5}\n",
    "\n",
    "del a['point']"
   ]
  },
  {
   "cell_type": "code",
   "execution_count": 2,
   "metadata": {},
   "outputs": [
    {
     "name": "stdout",
     "output_type": "stream",
     "text": [
      "{'color': 'green'}\n"
     ]
    }
   ],
   "source": [
    "print(a)"
   ]
  },
  {
   "cell_type": "code",
   "execution_count": 6,
   "metadata": {},
   "outputs": [
    {
     "name": "stdout",
     "output_type": "stream",
     "text": [
      "ken python\n",
      "loui php\n",
      "sita c\n",
      "gita c++\n"
     ]
    }
   ],
   "source": [
    "fav_language ={'ken':'python',\n",
    "              'loui':'php',\n",
    "               'sita':'c',\n",
    "               'gita':'c++'}\n",
    "for name,lan in fav_language.items():\n",
    "    print(name + \" \"+lan)"
   ]
  },
  {
   "cell_type": "code",
   "execution_count": 8,
   "metadata": {},
   "outputs": [
    {
     "name": "stdout",
     "output_type": "stream",
     "text": [
      "ken\n",
      "loui\n",
      "sita\n",
      "gita\n"
     ]
    }
   ],
   "source": [
    "for name in fav_language.keys():\n",
    "    print(name)"
   ]
  },
  {
   "cell_type": "code",
   "execution_count": 9,
   "metadata": {},
   "outputs": [
    {
     "name": "stdout",
     "output_type": "stream",
     "text": [
      "python\n",
      "php\n",
      "c\n",
      "c++\n"
     ]
    }
   ],
   "source": [
    "for lan in fav_language.values():\n",
    "    print(lan)"
   ]
  },
  {
   "cell_type": "code",
   "execution_count": 6,
   "metadata": {},
   "outputs": [
    {
     "name": "stdout",
     "output_type": "stream",
     "text": [
      "ken: trump\n",
      "\n",
      "\n",
      "loi: vition\n",
      "\n",
      "\n",
      "gita: adhikari\n",
      "\n",
      "\n",
      "sita: regmi\n",
      "\n",
      "\n",
      "krishna: adhikari\n",
      "\n",
      "\n",
      "ram: bhatta\n",
      "\n",
      "\n",
      "shyam: pokhrel\n",
      "\n",
      "\n",
      "hari: poudel\n",
      "\n",
      "\n"
     ]
    }
   ],
   "source": [
    "#stroing dictionaries in a list\n",
    "user = []\n",
    "new_user ={'ken':'trump',\n",
    "          'loi':'vition',\n",
    "          'gita':'adhikari',\n",
    "          'sita':'regmi'}\n",
    "user.append(new_user)\n",
    "new_users={\n",
    "    'krishna':'adhikari',\n",
    "    'ram':'bhatta',\n",
    "    'shyam':'pokhrel',\n",
    "    'hari':'poudel'\n",
    "}\n",
    "user.append(new_users)\n",
    "for user_dict in user:\n",
    "    \n",
    "    for k, v in user_dict.items():\n",
    "        print(k + \": \" + v)\n",
    "        print(\"\\n\")"
   ]
  },
  {
   "cell_type": "code",
   "execution_count": 9,
   "metadata": {},
   "outputs": [
    {
     "name": "stdout",
     "output_type": "stream",
     "text": [
      "ken:trump\n",
      "\n",
      "\n",
      "loi:vition\n",
      "\n",
      "\n",
      "gita:adhikari\n",
      "\n",
      "\n",
      "sita:regmi\n",
      "\n",
      "\n"
     ]
    }
   ],
   "source": [
    "user =[{'ken':'trump',\n",
    "          'loi':'vition',\n",
    "          'gita':'adhikari',\n",
    "          'sita':'regmi'}]\n",
    "for user_dict in user:\n",
    "    for key,value in user_dict.items():\n",
    "        print(key+\":\"+value)\n",
    "        print(\"\\n\")"
   ]
  },
  {
   "cell_type": "code",
   "execution_count": 1,
   "metadata": {},
   "outputs": [
    {
     "name": "stdout",
     "output_type": "stream",
     "text": [
      "enter languagephp\n",
      "('ken', ['php', 'ruby'])\n"
     ]
    }
   ],
   "source": [
    "#storing list in dictionary\n",
    "fav_language={\n",
    "    'ken':['php','ruby'],\n",
    "    'hari':['python','css'],\n",
    "    'shyam':['html','js'],\n",
    "    'sita':['python','c++']\n",
    "}\n",
    "n = input(\"enter language\")\n",
    "for i in fav_language.items():\n",
    "    \n",
    "    if n in i[1]:\n",
    "        \n",
    "        print(i)"
   ]
  },
  {
   "cell_type": "code",
   "execution_count": 4,
   "metadata": {},
   "outputs": [
    {
     "name": "stdout",
     "output_type": "stream",
     "text": [
      "ken\n",
      "hari\n",
      "shyam\n",
      "sita\n",
      "['php', 'ruby']\n",
      "['python', 'css']\n",
      "['html', 'js']\n",
      "['python', 'c++']\n"
     ]
    }
   ],
   "source": [
    "fav_language={\n",
    "    'ken':['php','ruby'],\n",
    "    'hari':['python','css'],\n",
    "    'shyam':['html','js'],\n",
    "    'sita':['python','c++']\n",
    "}\n",
    "for name in fav_language.keys():\n",
    "    print(name)\n",
    "for lan in fav_language.values():\n",
    "    print(lan)"
   ]
  },
  {
   "cell_type": "code",
   "execution_count": 6,
   "metadata": {
    "scrolled": true
   },
   "outputs": [
    {
     "name": "stdout",
     "output_type": "stream",
     "text": [
      "\n",
      "Username: aeinstein\n",
      "\tFull name: Albert Einstein\n",
      "\n",
      "Username: mcurie\n",
      "\tFull name: Marie Curie\n"
     ]
    }
   ],
   "source": [
    "users = {\n",
    "'aeinstein': {\n",
    "'first': 'albert',\n",
    "'last': 'einstein',\n",
    "'location': 'princeton',\n",
    "},\n",
    "'mcurie': {\n",
    "'first': 'marie',\n",
    "'last': 'curie',\n",
    "'location': 'paris',\n",
    "},\n",
    "}\n",
    "for username, user_dict in users.items():\n",
    "    print(\"\\nUsername: \" + username)\n",
    "    full_name = user_dict['first'] + \" \"\n",
    "    full_name += user_dict['last']\n",
    "    location = user_dict['location']\n",
    "    print(\"\\tFull name: \" + full_name.title())"
   ]
  },
  {
   "cell_type": "code",
   "execution_count": 8,
   "metadata": {},
   "outputs": [
    {
     "name": "stdout",
     "output_type": "stream",
     "text": [
      "enter n = 1\n",
      "enetr nameram\n",
      "enter marks in physics = 77\n",
      "enter marks in math = 89\n",
      "enter marks in science = 88\n",
      "{'ram': {'physics': 77, 'mathmatics': 89, 'science': 88}}\n"
     ]
    }
   ],
   "source": [
    "#to create dictionary inside dictionary\n",
    "dict = {}\n",
    "n = int(input(\"enter n = \"))\n",
    "for i in range(n):\n",
    "    name = input(\"enetr name\")\n",
    "    physics = int(input(\"enter marks in physics = \"))\n",
    "    math = int(input(\"enter marks in math = \"))\n",
    "    science = int(input(\"enter marks in science = \"))\n",
    "    dict[name] = {'physics':physics,'mathmatics':math,\"science\":science}\n",
    "print(dict)"
   ]
  },
  {
   "cell_type": "code",
   "execution_count": 10,
   "metadata": {},
   "outputs": [
    {
     "name": "stdout",
     "output_type": "stream",
     "text": [
      "jen:\n",
      "- python\n",
      "- ruby\n",
      "sarah:\n",
      "- c\n",
      "edward:\n",
      "- ruby\n",
      "- go\n",
      "phil:\n",
      "- python\n",
      "- haskell\n"
     ]
    }
   ],
   "source": [
    "from collections import OrderedDict\n",
    "fav_languages = OrderedDict()\n",
    "fav_languages['jen'] = ['python', 'ruby']\n",
    "fav_languages['sarah'] = ['c']\n",
    "fav_languages['edward'] = ['ruby', 'go']\n",
    "fav_languages['phil'] = ['python', 'haskell']\n",
    "for name, langs in fav_languages.items():\n",
    "    print(name + \":\")\n",
    "    for lang in langs:\n",
    "        print(\"- \" + lang)"
   ]
  },
  {
   "cell_type": "code",
   "execution_count": 3,
   "metadata": {},
   "outputs": [
    {
     "name": "stdout",
     "output_type": "stream",
     "text": [
      "sum is 11\n"
     ]
    }
   ],
   "source": [
    "#function\n",
    "def sum():\n",
    "    a= 5\n",
    "    b= 6\n",
    "    s = a+b\n",
    "    print(\"sum is\",s)\n",
    "sum()\n"
   ]
  },
  {
   "cell_type": "code",
   "execution_count": 5,
   "metadata": {},
   "outputs": [
    {
     "name": "stdout",
     "output_type": "stream",
     "text": [
      "11\n"
     ]
    }
   ],
   "source": [
    "def sum(a,b):\n",
    "    s = a+b\n",
    "    print(s)\n",
    "sum(5,6)\n"
   ]
  },
  {
   "cell_type": "code",
   "execution_count": 6,
   "metadata": {},
   "outputs": [
    {
     "data": {
      "text/plain": [
       "11"
      ]
     },
     "execution_count": 6,
     "metadata": {},
     "output_type": "execute_result"
    }
   ],
   "source": [
    "def sum(a=5,b=6):\n",
    "    s =a+b\n",
    "    return s\n",
    "sum()\n"
   ]
  },
  {
   "cell_type": "code",
   "execution_count": 9,
   "metadata": {},
   "outputs": [
    {
     "name": "stdout",
     "output_type": "stream",
     "text": [
      "i have a  dog\n",
      "its name is bubly\n"
     ]
    }
   ],
   "source": [
    "#positional argument\n",
    "def name(animal,name):\n",
    "    print(\"i have a \",animal)\n",
    "    print(\"its name is\",name)\n",
    "name('dog','bubly')\n",
    "    \n",
    "    "
   ]
  },
  {
   "cell_type": "code",
   "execution_count": 13,
   "metadata": {},
   "outputs": [
    {
     "name": "stdout",
     "output_type": "stream",
     "text": [
      "\n",
      "I have a hamster.\n",
      "Its name is harry.\n",
      "\n",
      "I have a dog.\n",
      "Its name is willie.\n"
     ]
    }
   ],
   "source": [
    "#keyword argument\n",
    "def describe_pet(animal, name):\n",
    "    print(\"\\nI have a \" + animal + \".\")\n",
    "    print(\"Its name is \" + name + \".\")\n",
    "    \n",
    "describe_pet(animal='hamster', name='harry')\n",
    "describe_pet(name='willie', animal='dog')"
   ]
  },
  {
   "cell_type": "code",
   "execution_count": 14,
   "metadata": {},
   "outputs": [
    {
     "data": {
      "text/plain": [
       "{'firstname': 'arati', 'lastname': 'adhikari'}"
      ]
     },
     "execution_count": 14,
     "metadata": {},
     "output_type": "execute_result"
    }
   ],
   "source": [
    "#returinng a dictionary\n",
    "def person(firstname,lastname):\n",
    "    dict = {'firstname':firstname,'lastname':lastname}\n",
    "    return dict\n",
    "person('arati','adhikari')\n",
    "    "
   ]
  },
  {
   "cell_type": "code",
   "execution_count": 19,
   "metadata": {},
   "outputs": [
    {
     "name": "stdout",
     "output_type": "stream",
     "text": [
      "{'first': 'jimi', 'last': 'hendrix', 'age': 27}\n",
      "None\n"
     ]
    }
   ],
   "source": [
    "def build_person(first, last, age=None):\n",
    "\n",
    "    person = {'first': first, 'last': last}\n",
    "    if age:\n",
    "        person['age'] = age\n",
    "        return person\n",
    "musician = build_person('jimi', 'hendrix', 27)\n",
    "print(musician)\n",
    "musician = build_person('janis', 'joplin')\n",
    "print(musician)"
   ]
  },
  {
   "cell_type": "code",
   "execution_count": 21,
   "metadata": {},
   "outputs": [
    {
     "name": "stdout",
     "output_type": "stream",
     "text": [
      "hello arati\n",
      "hello sita\n",
      "hello gita\n"
     ]
    }
   ],
   "source": [
    "def names(name):\n",
    "    for name in name:\n",
    "        print(\"hello\",name)\n",
    "usernames = ['arati','sita','gita']\n",
    "names(usernames)"
   ]
  },
  {
   "cell_type": "code",
   "execution_count": 27,
   "metadata": {},
   "outputs": [
    {
     "name": "stdout",
     "output_type": "stream",
     "text": [
      "currently printing bottle\n",
      "currently printing paper\n",
      "currently printing ring\n",
      "unprinted []\n",
      "printed ['bottle', 'paper', 'ring']\n"
     ]
    }
   ],
   "source": [
    "def model(unprinted,printed):\n",
    "    while unprinted:\n",
    "        current_model = unprinted.pop()\n",
    "        print(\"currently printing\",current_model)\n",
    "        printed.append(current_model)\n",
    "unprinted =['ring','paper','bottle']\n",
    "printed =[]\n",
    "model(unprinted,printed)\n",
    "print('unprinted',unprinted)\n",
    "print('printed',printed)\n",
    "        "
   ]
  },
  {
   "cell_type": "code",
   "execution_count": 29,
   "metadata": {},
   "outputs": [
    {
     "name": "stdout",
     "output_type": "stream",
     "text": [
      "currently printing bottle\n",
      "currently printing paper\n",
      "currently printing ring\n",
      "unprinted1 ['ring', 'paper', 'bottle']\n",
      "printed ['bottle', 'paper', 'ring']\n"
     ]
    }
   ],
   "source": [
    "def model(unprinted,printed):\n",
    "    while unprinted:\n",
    "        current_model = unprinted.pop()\n",
    "        print(\"currently printing\",current_model)\n",
    "        printed.append(current_model)\n",
    "unprinted1 =['ring','paper','bottle']\n",
    "printed =[]\n",
    "model(unprinted1[:],printed)\n",
    "print('unprinted1',unprinted1)\n",
    "print('printed',printed)"
   ]
  },
  {
   "cell_type": "code",
   "execution_count": 35,
   "metadata": {},
   "outputs": [
    {
     "name": "stdout",
     "output_type": "stream",
     "text": [
      "makingmediumof pizza\n",
      "toppings:\n",
      "- basil\n",
      "- blue cheese\n",
      "makinglargeof pizza\n",
      "toppings:\n",
      "- bacon bits\n",
      "- pineapple\n",
      "makingmediumof pizza\n",
      "toppings:\n",
      "- mushrooms\n",
      "- peppers\n",
      "- onions\n",
      "- extra cheese\n"
     ]
    }
   ],
   "source": [
    "def make_pizza(size,*toppings):\n",
    "    print(\"making\"+size+\"of pizza\")\n",
    "    print(\"toppings:\")\n",
    "    for topping in toppings:\n",
    "        print(\"-\",topping)\n",
    "make_pizza('medium','basil','blue cheese')\n",
    "make_pizza('large', 'bacon bits', 'pineapple')\n",
    "make_pizza('medium', 'mushrooms', 'peppers',\n",
    "'onions', 'extra cheese')"
   ]
  },
  {
   "cell_type": "code",
   "execution_count": 37,
   "metadata": {},
   "outputs": [
    {
     "name": "stdout",
     "output_type": "stream",
     "text": [
      "first == Geeks\n",
      "mid == for\n",
      "last == Geeks\n"
     ]
    }
   ],
   "source": [
    "def myFun(**kwargs):\n",
    "    for key, value in kwargs.items():\n",
    "        print (\"%s == %s\" %(key, value))\n",
    " \n",
    "# Driver code\n",
    "myFun(first ='Geeks', mid ='for', last='Geeks')   "
   ]
  },
  {
   "cell_type": "code",
   "execution_count": 42,
   "metadata": {},
   "outputs": [
    {
     "name": "stdout",
     "output_type": "stream",
     "text": [
      "{'firtsname': 'ram', 'lastname': 'adhikari', 'location': 'bharatpur'}\n"
     ]
    }
   ],
   "source": [
    "def uprofile(firstname,lastname,**userinfo):\n",
    "    profile = {'firtsname':firstname,'lastname':lastname}\n",
    "    for key,value in userinfo.items():\n",
    "        profile[key] = value\n",
    "        return profile\n",
    "user1 = uprofile('arati','adhikari',location='bharatpur')\n",
    "user2 = uprofile('ram','adhikari',location='bharatpur',field='chemistry')\n",
    "print(user2)\n",
    "        "
   ]
  },
  {
   "cell_type": "code",
   "execution_count": 45,
   "metadata": {},
   "outputs": [
    {
     "name": "stdout",
     "output_type": "stream",
     "text": [
      "{'first': 'albert', 'last': 'einstein', 'location': 'princeton'}\n",
      "{'first': 'marie', 'last': 'curie', 'location': 'paris'}\n"
     ]
    }
   ],
   "source": [
    "def build_profile(first, last, **user_info):\n",
    "    profile = {'first': first, 'last': last}\n",
    "    for key, value in user_info.items():\n",
    "        profile[key] = value\n",
    "        return profile\n",
    "\n",
    "user_0 = build_profile('albert', 'einstein',\n",
    "location='princeton')\n",
    "user_1 = build_profile('marie', 'curie',\n",
    "location='paris', field='chemistry')\n",
    "print(user_0)\n",
    "print(user_1)"
   ]
  },
  {
   "cell_type": "code",
   "execution_count": 49,
   "metadata": {},
   "outputs": [],
   "source": [
    "import pizza"
   ]
  },
  {
   "cell_type": "code",
   "execution_count": 50,
   "metadata": {},
   "outputs": [
    {
     "name": "stdout",
     "output_type": "stream",
     "text": [
      "\n",
      "Making a large pizza.\n",
      "Toppings:\n",
      "- basil\n",
      "- cheese\n",
      "- bacon\n"
     ]
    }
   ],
   "source": [
    "pizza.make_pizza('large','basil','cheese','bacon')"
   ]
  },
  {
   "cell_type": "code",
   "execution_count": 51,
   "metadata": {},
   "outputs": [],
   "source": [
    "#like this we can call the specific function only\n",
    "from pizza import make_pizza"
   ]
  },
  {
   "cell_type": "code",
   "execution_count": 52,
   "metadata": {},
   "outputs": [
    {
     "name": "stdout",
     "output_type": "stream",
     "text": [
      "\n",
      "Making a medium pizza.\n",
      "Toppings:\n",
      "- pepperoni\n",
      "\n",
      "Making a small pizza.\n",
      "Toppings:\n",
      "- bacon\n",
      "- pineapple\n"
     ]
    }
   ],
   "source": [
    "make_pizza('medium', 'pepperoni')\n",
    "make_pizza('small', 'bacon', 'pineapple')"
   ]
  },
  {
   "cell_type": "code",
   "execution_count": 53,
   "metadata": {},
   "outputs": [
    {
     "name": "stdout",
     "output_type": "stream",
     "text": [
      "\n",
      "Making a medium pizza.\n",
      "Toppings:\n",
      "- pepperoni\n",
      "\n",
      "Making a small pizza.\n",
      "Toppings:\n",
      "- bacon\n",
      "- pineapple\n"
     ]
    }
   ],
   "source": [
    "import pizza as p\n",
    "p.make_pizza('medium', 'pepperoni')\n",
    "p.make_pizza('small', 'bacon', 'pineapple')"
   ]
  },
  {
   "cell_type": "code",
   "execution_count": 61,
   "metadata": {},
   "outputs": [
    {
     "name": "stdout",
     "output_type": "stream",
     "text": [
      "Janis Joplin\n",
      "Bob Dylan\n"
     ]
    }
   ],
   "source": [
    "from full_names import get_full_name\n",
    "janis = get_full_name('janis', 'joplin')\n",
    "print(janis)\n",
    "bob = get_full_name('bob', 'dylan')\n",
    "print(bob)"
   ]
  },
  {
   "cell_type": "code",
   "execution_count": 63,
   "metadata": {},
   "outputs": [
    {
     "name": "stderr",
     "output_type": "stream",
     "text": [
      "E\n",
      "======================================================================\n",
      "ERROR: C:\\Users\\Rojan poudel\\AppData\\Roaming\\jupyter\\runtime\\kernel-8b85fa90-d728-4c9f-b558-8c590113612d (unittest.loader._FailedTest)\n",
      "----------------------------------------------------------------------\n",
      "AttributeError: module '__main__' has no attribute 'C:\\Users\\Rojan poudel\\AppData\\Roaming\\jupyter\\runtime\\kernel-8b85fa90-d728-4c9f-b558-8c590113612d'\n",
      "\n",
      "----------------------------------------------------------------------\n",
      "Ran 1 test in 0.001s\n",
      "\n",
      "FAILED (errors=1)\n"
     ]
    },
    {
     "ename": "SystemExit",
     "evalue": "True",
     "output_type": "error",
     "traceback": [
      "An exception has occurred, use %tb to see the full traceback.\n",
      "\u001b[1;31mSystemExit\u001b[0m\u001b[1;31m:\u001b[0m True\n"
     ]
    },
    {
     "name": "stderr",
     "output_type": "stream",
     "text": [
      "C:\\Users\\Rojan poudel\\anaconda3\\lib\\site-packages\\IPython\\core\\interactiveshell.py:3426: UserWarning: To exit: use 'exit', 'quit', or Ctrl-D.\n",
      "  warn(\"To exit: use 'exit', 'quit', or Ctrl-D.\", stacklevel=1)\n"
     ]
    }
   ],
   "source": [
    "import unittest\n",
    "from full_names import get_full_name\n",
    "class NamesTestCase(unittest.TestCase):\n",
    "    \n",
    "    def test_first_last(self):\n",
    "    \n",
    "        full_name = get_full_name('janis',\n",
    "        'joplin')\n",
    "        self.assertEqual(full_name,\n",
    "        'Janis Joplin')\n",
    "unittest.main()"
   ]
  },
  {
   "cell_type": "code",
   "execution_count": 58,
   "metadata": {},
   "outputs": [],
   "source": [
    "def get_full_name(first, last):\n",
    "\n",
    "    full_name = \"{0} {1}\".format(first, last)\n",
    "    return full_name.title()"
   ]
  },
  {
   "cell_type": "markdown",
   "metadata": {},
   "source": [
    "#file handling \n",
    "try\n",
    "<operation>\n",
    "except\n",
    "<operation>"
   ]
  },
  {
   "cell_type": "code",
   "execution_count": 2,
   "metadata": {},
   "outputs": [
    {
     "name": "stdout",
     "output_type": "stream",
     "text": [
      "enter a = 3\n",
      "enter b = ff\n",
      "only integer value is accepted\n"
     ]
    }
   ],
   "source": [
    "try:\n",
    "    a = int(input(\"enter a = \"))\n",
    "    b = int(input(\"enter b = \"))\n",
    "    s = a+b\n",
    "    print(s)\n",
    "except:\n",
    "    print(\"only integer value is accepted\")"
   ]
  },
  {
   "cell_type": "code",
   "execution_count": 3,
   "metadata": {},
   "outputs": [],
   "source": [
    "#there are diffrent types of error such as valueerror,zerodivsioerror,type error,assertion error,etc\n"
   ]
  },
  {
   "cell_type": "code",
   "execution_count": 5,
   "metadata": {},
   "outputs": [
    {
     "name": "stdout",
     "output_type": "stream",
     "text": [
      "enter a =2\n",
      "enter b = 0\n",
      "denomiator cannot be zero\n"
     ]
    }
   ],
   "source": [
    "try:\n",
    "    a = int(input(\"enter a =\"))\n",
    "    b = int(input(\"enter b = \"))\n",
    "    d = a/b\n",
    "    print(d)\n",
    "except ValueError:\n",
    "    print(\"only integer value is accepted\")\n",
    "except ZeroDivisionError:\n",
    "    print(\"denomiator cannot be zero\")\n"
   ]
  },
  {
   "cell_type": "code",
   "execution_count": 2,
   "metadata": {},
   "outputs": [
    {
     "name": "stdout",
     "output_type": "stream",
     "text": [
      "enter a = 2\n",
      "enter b = sjs\n",
      "only integer is accpeted\n",
      "enter a = 2\n",
      "enter b = 0\n",
      "denomiator cannot be zero\n",
      "enter a = 50\n",
      "enter b = 2\n",
      "25.0\n"
     ]
    }
   ],
   "source": [
    "def cal():\n",
    "    try:\n",
    "        a = int(input(\"enter a = \"))\n",
    "        b =  int(input(\"enter b = \"))\n",
    "        d = a/b\n",
    "        print(d)\n",
    "    except ValueError:\n",
    "        print(\"only integer is accpeted\")\n",
    "        cal()\n",
    "\n",
    "    except ZeroDivisionError:\n",
    "        print(\"denomiator cannot be zero\")\n",
    "        cal()\n",
    "cal()\n",
    "    "
   ]
  },
  {
   "cell_type": "code",
   "execution_count": 6,
   "metadata": {
    "scrolled": true
   },
   "outputs": [
    {
     "name": "stdout",
     "output_type": "stream",
     "text": [
      "enter n = 3\n",
      "enter even no\n"
     ]
    }
   ],
   "source": [
    "n = int(input(\"enter n = \"))\n",
    "try:\n",
    "    assert n%2 == 0\n",
    "except AssertionError:\n",
    "    print(\"enter even no\")"
   ]
  },
  {
   "cell_type": "code",
   "execution_count": 12,
   "metadata": {},
   "outputs": [
    {
     "name": "stdout",
     "output_type": "stream",
     "text": [
      "ram.txt3\n"
     ]
    }
   ],
   "source": [
    "fnames =['alice.txt','ram.txt']\n",
    "for fname in fnames:\n",
    "    try:\n",
    "        with open(fname) as fobj:\n",
    "            lines = fobj.readlines()\n",
    "    except FileNotFoundError:\n",
    "        pass\n",
    "    else:\n",
    "        num_lines = len(lines)\n",
    "        msg = f\"{fname}{num_lines}\"\n",
    "        print(msg)"
   ]
  },
  {
   "cell_type": "code",
   "execution_count": 18,
   "metadata": {},
   "outputs": [],
   "source": [
    "filename = 'arati.txt'\n",
    "with open(filename,'w') as fo:\n",
    "    fo.write('hello i am arati')\n",
    "    fo.write('i am from bharatpur')\n"
   ]
  },
  {
   "cell_type": "code",
   "execution_count": 19,
   "metadata": {},
   "outputs": [
    {
     "name": "stdout",
     "output_type": "stream",
     "text": [
      "hello i am aratii am from bharatpur\n"
     ]
    }
   ],
   "source": [
    "filename = \"arati.txt\"\n",
    "with open(filename,'r') as f:\n",
    "    a = f.read()\n",
    "print(a)"
   ]
  },
  {
   "cell_type": "code",
   "execution_count": 24,
   "metadata": {},
   "outputs": [
    {
     "name": "stdout",
     "output_type": "stream",
     "text": [
      "hello i am aratii am from bharatpur\n"
     ]
    }
   ],
   "source": [
    "filename = 'arati.txt'\n",
    "with open(filename,'r') as f:\n",
    "    line = f.readlines()\n",
    "for lines in line:\n",
    "    print(lines.rstrip())\n",
    "#rstrip method gets rid of the the extra blank lines\n",
    "#this would result in when printing to the terminal"
   ]
  },
  {
   "cell_type": "code",
   "execution_count": 28,
   "metadata": {},
   "outputs": [
    {
     "data": {
      "text/plain": [
       "<function TextIOWrapper.close()>"
      ]
     },
     "execution_count": 28,
     "metadata": {},
     "output_type": "execute_result"
    }
   ],
   "source": [
    "filename = 'arati.txt'\n",
    "with open(filename,'a') as f:\n",
    "    f.write(\"i love data science\")\n",
    "    f.write('and i am learning it.')\n",
    "f.close"
   ]
  },
  {
   "cell_type": "code",
   "execution_count": 29,
   "metadata": {},
   "outputs": [
    {
     "name": "stdout",
     "output_type": "stream",
     "text": [
      "hello i am aratii am from bharatpuri love data scienceand i am learning it.i love data scienceand i am learning it.\n"
     ]
    }
   ],
   "source": [
    "filename = \"arati.txt\"\n",
    "with open(filename,'r') as f:\n",
    "    a = f.read()\n",
    "print(a)"
   ]
  },
  {
   "cell_type": "code",
   "execution_count": 32,
   "metadata": {},
   "outputs": [
    {
     "name": "stdout",
     "output_type": "stream",
     "text": [
      "jwjjqwjqjjqjqjq\n",
      "\n",
      "qjqjjq\n",
      "\n",
      "qjqjq\n",
      "\n",
      "qjqjq\n",
      "\n",
      "qnq\n",
      "\n"
     ]
    }
   ],
   "source": [
    "# opening file from absolute path\n",
    "f_path =r\"C:\\Users\\Rojan poudel\\Documents\\Outlook Files\\test.txt\"\n",
    "with open(f_path,'r') as f:\n",
    "    line = f.readlines()\n",
    "for lines in line:\n",
    "    print(lines)"
   ]
  },
  {
   "cell_type": "code",
   "execution_count": 41,
   "metadata": {},
   "outputs": [
    {
     "name": "stdout",
     "output_type": "stream",
     "text": [
      "hello\n"
     ]
    }
   ],
   "source": [
    "#class name start with a capital letter\n",
    "class Python:\n",
    "    print(\"hello\")\n",
    "obj = Python()\n"
   ]
  },
  {
   "cell_type": "code",
   "execution_count": 40,
   "metadata": {},
   "outputs": [
    {
     "name": "stdout",
     "output_type": "stream",
     "text": [
      "9\n"
     ]
    }
   ],
   "source": [
    "class Cal:\n",
    "    def sum(self,a,b):\n",
    "        s = a+b\n",
    "        print(s)\n",
    "obj = Cal()\n",
    "obj.sum(4,5)"
   ]
  },
  {
   "cell_type": "code",
   "execution_count": 42,
   "metadata": {},
   "outputs": [
    {
     "data": {
      "text/plain": [
       "20"
      ]
     },
     "execution_count": 42,
     "metadata": {},
     "output_type": "execute_result"
    }
   ],
   "source": [
    "class Area:\n",
    "    def calarea(self,l,b):\n",
    "        area = l*b\n",
    "        return area\n",
    "obj = Area()\n",
    "obj.calarea(4,5)"
   ]
  },
  {
   "cell_type": "code",
   "execution_count": 48,
   "metadata": {},
   "outputs": [
    {
     "name": "stdout",
     "output_type": "stream",
     "text": [
      "area is 12\n",
      "volume is  36\n"
     ]
    }
   ],
   "source": [
    "class Cal:\n",
    "    def __init__(self,l,b,h):\n",
    "        self.l = l\n",
    "        self.b = b\n",
    "        self.h = h    \n",
    "    def area(self):\n",
    "        area = self.l*self.b\n",
    "        print(\"area is\",area)\n",
    "    def volume(self):\n",
    "        volume = self.l*self.b*self.h\n",
    "        print(\"volume is \",volume)\n",
    "\n",
    "obj = Cal(4,3,3)\n",
    "obj.area()\n",
    "obj.volume()\n",
    "        \n",
    "         "
   ]
  },
  {
   "cell_type": "code",
   "execution_count": 50,
   "metadata": {},
   "outputs": [
    {
     "name": "stdout",
     "output_type": "stream",
     "text": [
      "area is 12\n",
      "volume is  48\n"
     ]
    }
   ],
   "source": [
    "class Cal:\n",
    "    def __init__(self,l,b):\n",
    "        self.l = l\n",
    "        self.b = b\n",
    "    def area(self):\n",
    "        area=self.l*self.b\n",
    "        print(\"area is\",area)\n",
    "    def volume(self,h):\n",
    "        volume = self.l*self.b*h\n",
    "        print(\"volume is \",volume)\n",
    "obj = Cal(4,3)\n",
    "obj.area()\n",
    "obj.volume(4)\n",
    "    \n",
    "        "
   ]
  },
  {
   "cell_type": "code",
   "execution_count": 53,
   "metadata": {},
   "outputs": [
    {
     "name": "stdout",
     "output_type": "stream",
     "text": [
      "fill tank\n"
     ]
    }
   ],
   "source": [
    "class Car():\n",
    "    def __init__(self,model,year):\n",
    "        self.model = model\n",
    "        self.year = year\n",
    "        self.fuel_capacity = 15\n",
    "        self.fuel_level = 0\n",
    "    def fill_tank(self):\n",
    "        self.fuel_level = self.fuel_capacity\n",
    "        print(\"fill tank\")\n",
    "obj = Car('abba',21)\n",
    "obj.fill_tank()\n",
    "    \n",
    "        "
   ]
  },
  {
   "cell_type": "code",
   "execution_count": 1,
   "metadata": {},
   "outputs": [
    {
     "name": "stdout",
     "output_type": "stream",
     "text": [
      "20\n",
      "20\n",
      "<class '__main__.Cal'>\n"
     ]
    }
   ],
   "source": [
    "#str method returns object.it returns only string\n",
    "class Cal:\n",
    "    def __init__(self,l,b):\n",
    "        self.l = l\n",
    "        self.b = b\n",
    "    def __str__(self):\n",
    "        a = self.l*self.b\n",
    "        return f\"{a}\"\n",
    "obj = Cal(10,2)\n",
    "print(obj)\n",
    "print(obj.__str__())\n",
    "#obj 1 = str(obj)\n",
    "print(type(obj))"
   ]
  },
  {
   "cell_type": "code",
   "execution_count": 15,
   "metadata": {},
   "outputs": [
    {
     "name": "stdout",
     "output_type": "stream",
     "text": [
      "this is init method 2 3 4\n",
      "this is init method -1 2 6\n",
      "this is add method\n",
      "this is init method 1 5 10\n",
      "this is str method\n",
      "1,5,10\n"
     ]
    }
   ],
   "source": [
    "class Point:\n",
    "    def __init__(self,x = 0 ,y =0,z = 0):\n",
    "        self.x = x\n",
    "        self.y = y\n",
    "        self.z = z\n",
    "        print(\"this is init method\",self.x,self.y,self.z)\n",
    "    def __str__(self):\n",
    "        print(\"this is str method\")\n",
    "        return f\"{self.x},{self.y},{self.z}\"\n",
    "    def __add__(self,other):\n",
    "        x = self.x+other.x\n",
    "        y = self.y+other.y\n",
    "        z = self.z+other.z\n",
    "        print(\"this is add method\")\n",
    "        return point(x,y,z)\n",
    "p1 = point(2,3,4)\n",
    "p2 = point(-1,2,6)\n",
    "\n",
    "print(p1+p2)\n",
    "    "
   ]
  },
  {
   "cell_type": "code",
   "execution_count": 16,
   "metadata": {},
   "outputs": [
    {
     "name": "stdout",
     "output_type": "stream",
     "text": [
      "parrot cannot swim\n",
      "pengine cannot fly\n"
     ]
    }
   ],
   "source": [
    "#polymorphism\n",
    "class parrot:\n",
    "    def fly(self):\n",
    "        print(\"parrot can fly\")\n",
    "    def swim(self):\n",
    "        print(\"parrot cannot swim\")\n",
    "class penguine:\n",
    "    def fly(self):\n",
    "        print(\"pengine cannot fly\")\n",
    "    def swim(self):\n",
    "        print(\"penguine can swim\")\n",
    "\n",
    "\n",
    "blu = parrot()\n",
    "peggey = penguine()\n",
    "blu.swim()\n",
    "peggey.fly()"
   ]
  },
  {
   "cell_type": "code",
   "execution_count": 17,
   "metadata": {},
   "outputs": [],
   "source": [
    "#inheritance is a calability of one class to derive or inherit properties from another class\n",
    "#it provides reusability of code #it has: #parent class #child class"
   ]
  },
  {
   "cell_type": "code",
   "execution_count": 24,
   "metadata": {},
   "outputs": [
    {
     "name": "stdout",
     "output_type": "stream",
     "text": [
      "this is class a\n",
      "this is class b\n"
     ]
    }
   ],
   "source": [
    "class A:\n",
    "    print(\"this is class a\")\n",
    "class B(A):\n",
    "    print(\"this is class b\")\n",
    "#b = B()\n",
    "a = A()"
   ]
  },
  {
   "cell_type": "code",
   "execution_count": 29,
   "metadata": {},
   "outputs": [
    {
     "name": "stdout",
     "output_type": "stream",
     "text": [
      "enter l = 10\n",
      "enter b = 20\n",
      "area is  200\n",
      "volumne is 1200\n"
     ]
    }
   ],
   "source": [
    "class Cal():\n",
    "    def __init__(self):\n",
    "        self.l = int(input(\"enter l = \"))\n",
    "        self.b = int(input(\"enter b = \"))\n",
    "    def area(self):\n",
    "        areas = self.l*self.b\n",
    "        print(\"area is \",areas)\n",
    "class Volume(Cal):\n",
    "    def vol(self):\n",
    "        h = 6\n",
    "        volu = self.l*self.b*h\n",
    "        print(\"volumne is\",volu)\n",
    "v1 = Volume()\n",
    "v1.area()\n",
    "v1.vol()"
   ]
  },
  {
   "cell_type": "code",
   "execution_count": 31,
   "metadata": {},
   "outputs": [
    {
     "name": "stdout",
     "output_type": "stream",
     "text": [
      "enter id = 10\n",
      "enter salary = 200000\n",
      "enter nameram\n",
      "enter age = 23\n",
      "enter addresssjs\n",
      "hello ram this is hr section\n",
      "hello ram.your age is 23 and your salary is 200000.id is 10\n"
     ]
    }
   ],
   "source": [
    "#multilevel inheritance \n",
    "class Data:\n",
    "    def __init__(self):\n",
    "        self.name = input(\"enter name\")\n",
    "        self.age = int(input(\"enter age = \"))\n",
    "        self.add = input(\"enter address\")\n",
    "class Hr(Data):\n",
    "    def __init__(self):\n",
    "        self.salary = int(input(\"enter salary = \"))\n",
    "        Data.__init__(self)\n",
    "    def hr(self):\n",
    "        print(f\"hello {self.name} this is hr section\")\n",
    "class Office(Hr):\n",
    "    def __init__(self):\n",
    "        self.id = input(\"enter id = \")\n",
    "        Hr.__init__(self)\n",
    "    def office(self):\n",
    "        print(f\"hello {self.name}.your age is {self.age} and your salary is {self.salary}.id is {self.id}\")\n",
    "off = Office()\n",
    "off.hr()\n",
    "off.office()\n",
    "    \n",
    "        "
   ]
  },
  {
   "cell_type": "code",
   "execution_count": null,
   "metadata": {},
   "outputs": [],
   "source": []
  }
 ],
 "metadata": {
  "kernelspec": {
   "display_name": "Python 3",
   "language": "python",
   "name": "python3"
  },
  "language_info": {
   "codemirror_mode": {
    "name": "ipython",
    "version": 3
   },
   "file_extension": ".py",
   "mimetype": "text/x-python",
   "name": "python",
   "nbconvert_exporter": "python",
   "pygments_lexer": "ipython3",
   "version": "3.8.5"
  }
 },
 "nbformat": 4,
 "nbformat_minor": 4
}
